{
 "cells": [
  {
   "cell_type": "code",
   "execution_count": null,
   "metadata": {
    "vscode": {
     "languageId": "html"
    }
   },
   "outputs": [],
   "source": [
    "> ![](https://github.com/abi1961/csse_repo2/blob/dfe88e7d04a1d90adf705a7f7b38e70b8ee5837b/animation/Preview/Preview%20GIF/HostileAttackReaper.gif)"
   ]
  }
 ],
 "metadata": {
  "language_info": {
   "name": "python"
  },
  "orig_nbformat": 4
 },
 "nbformat": 4,
 "nbformat_minor": 2
}
